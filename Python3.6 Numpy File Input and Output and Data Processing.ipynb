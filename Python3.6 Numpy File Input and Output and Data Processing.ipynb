{
 "cells": [
  {
   "cell_type": "markdown",
   "metadata": {},
   "source": [
    "***\n",
    "## 3.6 Numpy - File I/O and Data Processing"
   ]
  },
  {
   "cell_type": "markdown",
   "metadata": {},
   "source": [
    "***\n",
    "### Python3.1 Numpy Introduction\n",
    "### Python3.2 Numpy DataTypes, Functions, and Random Module\n",
    "### Python3.3 Numpy Iterating Over Arrays\n",
    "### Python3.4 Numpy Manipulating Arrays\n",
    "### Python3.5 Numpy Operations\n",
    "### Python3.6 Numpy File Input and Output and Data Processing\n",
    "### Python3.7 Numpy-Sort, Argsort, Nonzero, and Extract Functions\n",
    "### Python3.8 Numpy BreakoutGroupExercises\n",
    "### Python3.8 Numpy BreakoutGroupExercises - Solutions\n",
    "***"
   ]
  },
  {
   "cell_type": "markdown",
   "metadata": {},
   "source": [
    "### The ndarray objects can be saved to and loaded from the disk files. The IO functions are available:\n",
    "\n",
    "- 1) `load()` and `save()` functions handle/NumPy binary files (with npy extension)\n",
    "\n",
    "- 2) `loadtxt()` and `savetxt()` functions handle normal text files\n",
    "\n",
    "NumPy introduces a simple file format for ndarray objects. This `.npy` file stores data, shape, dtype and other information required to reconstruct the ndarray in a disk file such that the array is correctly retrieved even if the file is on another machine with different architecture."
   ]
  },
  {
   "cell_type": "markdown",
   "metadata": {},
   "source": [
    "### I/O 1): Saving & Loading on Disk - `save()` Function\n",
    "\n",
    "- The numpy save() file stores the input array in a disk file with npy extension.\n",
    "\n",
    "- The save() and load() functions accept an additional Boolean parameter allow_pickles. A pickle in Python is used to serialize and de-serialize objects before saving to or reading from a disk file."
   ]
  },
  {
   "attachments": {
    "image.png": {
     "image/png": "[encoded data removed]"
    }
   },
   "cell_type": "markdown",
   "metadata": {},
   "source": [
    "![image.png](attachment:image.png)"
   ]
  },
  {
   "cell_type": "code",
   "execution_count": 15,
   "metadata": {},
   "outputs": [],
   "source": [
    "import numpy as np \n",
    "a = np.array([1,2,3,4,5]) \n",
    "np.save('outfile',a)"
   ]
  },
  {
   "cell_type": "code",
   "execution_count": 16,
   "metadata": {},
   "outputs": [
    {
     "data": {
      "text/plain": [
       "array([1, 2, 3, 4, 5])"
      ]
     },
     "execution_count": 16,
     "metadata": {},
     "output_type": "execute_result"
    }
   ],
   "source": [
    "# To reconstruct array from outfile.npy, use load() function.\n",
    "b = np.load('outfile.npy') \n",
    "b "
   ]
  },
  {
   "cell_type": "code",
   "execution_count": 17,
   "metadata": {},
   "outputs": [
    {
     "data": {
      "text/plain": [
       "'C:\\\\Users\\\\yumei\\\\MSCA37014PythonForAnalyticsSummer2022\\\\Data'"
      ]
     },
     "execution_count": 17,
     "metadata": {},
     "output_type": "execute_result"
    }
   ],
   "source": [
    "%pwd"
   ]
  },
  {
   "cell_type": "markdown",
   "metadata": {},
   "source": [
    "### I/O 2): Saving & Loading Text Files - `savetxt()` Function\n",
    "\n",
    "- The storage and retrieval of array data in simple text file format is done with savetxt() and loadtxt() functions.\n",
    "\n",
    "- The savetxt() and loadtxt() functions accept additional optional parameters such as header, footer, and delimiter."
   ]
  },
  {
   "attachments": {
    "image.png": {
     "image/png": "[encoded data removed]"
    }
   },
   "cell_type": "markdown",
   "metadata": {},
   "source": [
    "![image.png](attachment:image.png)"
   ]
  },
  {
   "cell_type": "code",
   "execution_count": 18,
   "metadata": {},
   "outputs": [
    {
     "data": {
      "text/plain": [
       "array([1., 2., 3., 4., 5.])"
      ]
     },
     "execution_count": 18,
     "metadata": {},
     "output_type": "execute_result"
    }
   ],
   "source": [
    "a = np.array([1,2,3,4,5]) \n",
    "np.savetxt('out.txt',a) \n",
    "b = np.loadtxt('out.txt') \n",
    "b "
   ]
  },
  {
   "cell_type": "markdown",
   "metadata": {},
   "source": [
    "#### Using numpy.savetxt we can store a Numpy array to a file in CSV format:"
   ]
  },
  {
   "cell_type": "code",
   "execution_count": 19,
   "metadata": {},
   "outputs": [
    {
     "data": {
      "text/plain": [
       "array([[0.754208  , 0.72479078, 0.38382575],\n",
       "       [0.7204977 , 0.08497196, 0.6306744 ],\n",
       "       [0.0695307 , 0.8611572 , 0.57430917]])"
      ]
     },
     "execution_count": 19,
     "metadata": {},
     "output_type": "execute_result"
    }
   ],
   "source": [
    "M = np.random.rand(3,3)\n",
    "M"
   ]
  },
  {
   "cell_type": "code",
   "execution_count": 20,
   "metadata": {},
   "outputs": [],
   "source": [
    "np.savetxt(\"random-matrix.csv\", M)"
   ]
  },
  {
   "cell_type": "markdown",
   "metadata": {},
   "source": [
    "Numpy's native file format is .npy\n",
    "\n",
    "Useful when storing and reading back numpy array data. Use the functions numpy.save and numpy.load:"
   ]
  },
  {
   "cell_type": "code",
   "execution_count": 21,
   "metadata": {},
   "outputs": [],
   "source": [
    "np.save(\"random-matrix.npy\", M)"
   ]
  },
  {
   "cell_type": "markdown",
   "metadata": {},
   "source": [
    "#### Import WCFrequency data"
   ]
  },
  {
   "cell_type": "code",
   "execution_count": 22,
   "metadata": {},
   "outputs": [],
   "source": [
    "import numpy as np\n",
    "import csv"
   ]
  },
  {
   "cell_type": "code",
   "execution_count": 23,
   "metadata": {},
   "outputs": [
    {
     "data": {
      "text/plain": [
       "'C:\\\\Users\\\\yumei\\\\MSCA37014PythonForAnalyticsSummer2022\\\\Data'"
      ]
     },
     "execution_count": 23,
     "metadata": {},
     "output_type": "execute_result"
    }
   ],
   "source": [
    "%pwd"
   ]
  },
  {
   "cell_type": "code",
   "execution_count": 25,
   "metadata": {},
   "outputs": [
    {
     "data": {
      "text/plain": [
       "[['class', 'year', 'payroll', 'claimcount'],\n",
       " ['1', '1', '32.321999', '1'],\n",
       " ['1', '2', '33.778999', '4'],\n",
       " ['1', '3', '43.548', '3'],\n",
       " ['1', '4', '46.686001', '5']]"
      ]
     },
     "execution_count": 25,
     "metadata": {},
     "output_type": "execute_result"
    }
   ],
   "source": [
    "import os\n",
    "os.chdir(r'C:\\Users\\yumei\\CSP Workshop 2023\\Data')\n",
    "with open('WCFrequency.csv', 'r') as f:\n",
    "    data = list(csv.reader(f, delimiter = ','))\n",
    "data[:5]"
   ]
  },
  {
   "cell_type": "code",
   "execution_count": 26,
   "metadata": {},
   "outputs": [
    {
     "data": {
      "text/plain": [
       "array([['class', 'year', 'payroll', 'claimcount'],\n",
       "       ['1', '1', '32.321999', '1'],\n",
       "       ['1', '2', '33.778999', '4'],\n",
       "       ['1', '3', '43.548', '3'],\n",
       "       ['1', '4', '46.686001', '5']], dtype='<U16')"
      ]
     },
     "execution_count": 26,
     "metadata": {},
     "output_type": "execute_result"
    }
   ],
   "source": [
    "np.genfromtxt('WCFrequency.csv', delimiter=',', dtype=\"<U16\", autostrip=True)[:5]"
   ]
  },
  {
   "cell_type": "code",
   "execution_count": 27,
   "metadata": {},
   "outputs": [
    {
     "data": {
      "text/plain": [
       "[['133', '3', '69.913002', '0'],\n",
       " ['133', '4', '46.289001', '0'],\n",
       " ['133', '5', '91.119003', '0'],\n",
       " ['133', '6', '78.456001', '1'],\n",
       " ['133', '7', '84.362', '2']]"
      ]
     },
     "execution_count": 27,
     "metadata": {},
     "output_type": "execute_result"
    }
   ],
   "source": [
    "data[-5:]"
   ]
  },
  {
   "cell_type": "code",
   "execution_count": 28,
   "metadata": {},
   "outputs": [
    {
     "data": {
      "text/plain": [
       "array([['132', '5', '35.412998', '2'],\n",
       "       ['132', '6', '16.983999', '1'],\n",
       "       ['132', '7', '18.797001', '0'],\n",
       "       ['133', '1', '66.212997', '2'],\n",
       "       ['133', '2', '65.695999', '0'],\n",
       "       ['133', '3', '69.913002', '0'],\n",
       "       ['133', '4', '46.289001', '0'],\n",
       "       ['133', '5', '91.119003', '0'],\n",
       "       ['133', '6', '78.456001', '1'],\n",
       "       ['133', '7', '84.362', '2']], dtype='<U16')"
      ]
     },
     "execution_count": 28,
     "metadata": {},
     "output_type": "execute_result"
    }
   ],
   "source": [
    "np.genfromtxt('WCFrequency.csv', delimiter=',', dtype=\"<U16\", autostrip=True)[-10:]"
   ]
  },
  {
   "cell_type": "code",
   "execution_count": 29,
   "metadata": {},
   "outputs": [
    {
     "data": {
      "text/plain": [
       "array([['class', 'year', 'payroll', 'claimcount'],\n",
       "       ['1', '1', '32.321999', '1'],\n",
       "       ['1', '2', '33.778999', '4'],\n",
       "       ...,\n",
       "       ['133', '5', '91.119003', '0'],\n",
       "       ['133', '6', '78.456001', '1'],\n",
       "       ['133', '7', '84.362', '2']], dtype='<U16')"
      ]
     },
     "execution_count": 29,
     "metadata": {},
     "output_type": "execute_result"
    }
   ],
   "source": [
    "np.genfromtxt('WCFrequency.csv', delimiter=',', dtype=\"<U16\", autostrip=True)"
   ]
  },
  {
   "cell_type": "markdown",
   "metadata": {},
   "source": [
    "## Further reading\n",
    "\n",
    "- http://numpy.scipy.org\n",
    "- http://scipy.org/Tentative_NumPy_Tutorial\n",
    "- http://scipy.org/NumPy_for_Matlab_Users - A Numpy guide for MATLAB users."
   ]
  },
  {
   "cell_type": "markdown",
   "metadata": {},
   "source": [
    "#### Note: The course materials are developed mainly based on personal experience and contributions from the Python learning community\n",
    "Referred Books: \n",
    "- Learning Python, 5th Edition by Mark Lutz\n",
    "- Python Data Science Handbook, Jake, VanderPlas\n",
    "- Python for Data Analysis, Wes McKinney    \n",
    "\n",
    "Copyright ©2023 Mei Najim. All rights reserved. "
   ]
  },
  {
   "cell_type": "code",
   "execution_count": null,
   "metadata": {},
   "outputs": [],
   "source": []
  }
 ],
 "metadata": {
  "kernelspec": {
   "display_name": "Python 3 (ipykernel)",
   "language": "python",
   "name": "python3"
  },
  "language_info": {
   "codemirror_mode": {
    "name": "ipython",
    "version": 3
   },
   "file_extension": ".py",
   "mimetype": "text/x-python",
   "name": "python",
   "nbconvert_exporter": "python",
   "pygments_lexer": "ipython3",
   "version": "3.9.7"
  }
 },
 "nbformat": 4,
 "nbformat_minor": 2
}

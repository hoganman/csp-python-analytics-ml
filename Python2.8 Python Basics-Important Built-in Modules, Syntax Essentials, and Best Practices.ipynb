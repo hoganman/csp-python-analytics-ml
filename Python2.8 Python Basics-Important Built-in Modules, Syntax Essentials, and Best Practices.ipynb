{
 "cells": [
  {
   "cell_type": "markdown",
   "metadata": {},
   "source": [
    "# Python Basics for Data Science \n",
    "***\n",
    "### IntroPython2.1 Python Basics-Operators  \n",
    "### IntroPython2.2 Python Basics-Variables, Data Types, and Data Type Conversion\n",
    "### IntroPython2.3 Python Basics-Data Structures\n",
    "### IntroPython2.4 Python Basics-Built-in Functions and Methods\n",
    "### IntroPython2.5 Python Basics-Create Our Own Function and Lambda\n",
    "### IntroPython2.6 Python Basics-If Statement\n",
    "### IntroPython2.7 Python Basics-Loops\n",
    "### IntroPython2.8 Python Basics-Import Statement and Important Built-in Modules, Syntax Essentials and Best Practices\n",
    "***"
   ]
  },
  {
   "cell_type": "markdown",
   "metadata": {},
   "source": [
    "## Important Built-in Modules, Syntax Essentials and Best Practice - Table of Contents\n",
    "### 1. Important Built-in Modules\n",
    "### 2. The 3 Major Things to Keep in Mind about Python Syntax\n",
    "### 3. The 6 Other Python Best Practices for Nicer Formatting\n",
    "\n",
    "I’ve put together the Python syntax essentials we should keep in mind as a data science/data analytics professional. And I added some formatting best practices as well, to help us keep our code nice and clean."
   ]
  },
  {
   "cell_type": "markdown",
   "metadata": {},
   "source": [
    "## 1. Important Built-in Modules"
   ]
  },
  {
   "cell_type": "markdown",
   "metadata": {},
   "source": [
    "### Modules are divided into three groups:\n",
    "\n",
    "1. `The modules of the Python Standard Library`: You can get these really easily because they come with Python3 by default. You simply have to type import and the name of the module – and from that point on you can use the given module in your code.\n",
    "\n",
    "2. `More advanced and more specialized modules`:There are modules that are not part of the standard library. For these, you have to install new packages to your data server first. You will see that for data science we are using many of these “external” packages. (The ones you might have heard about are pandas, numpy, matplotlib, scikit-learn, etc.)\n",
    "\n",
    "3. `Your own modules`: Yes, you can write new modules by yourself, too! (We’ll not cover this)\n",
    "\n",
    "#### Anyway, `import` is a really powerful concept in Python – because with that you’ll be able to expand your toolset continuously and almost infinitely when you are dealing with different data science challenges."
   ]
  },
  {
   "cell_type": "markdown",
   "metadata": {},
   "source": [
    "## The most important Python Built-in Modules for Data Scientists\n",
    "\n",
    "Okay, now that you get the concept, it’s time to see it in practice. As I have mentioned, there is a Python Standard Library with dozens of built-in modules. From those, I have picked the five most important modules for data analysts and scientists and let’s see the five built-in modules one by one. These are:\n",
    "\n",
    "- random\n",
    "- statistics\n",
    "- math\n",
    "- datetime\n",
    "- csv\n",
    "\n",
    "You can easily import any of them by using this syntax:\n",
    "\n",
    "`import` [module_name]\n",
    "\n",
    "eg. import random\n",
    "\n",
    "Note: This will import the entire module with all items in it. You can import only a part of the module, too: \n",
    "\n",
    "`from` [module_name] `import` [item_name]. But let’s not complicate things with that yet."
   ]
  },
  {
   "cell_type": "markdown",
   "metadata": {},
   "source": [
    "### Python Built-in Module #1: `random`\n",
    "Randomization is very important in data science. If you import the random module, you can generate random numbers by various rules."
   ]
  },
  {
   "cell_type": "code",
   "execution_count": 36,
   "metadata": {},
   "outputs": [],
   "source": [
    "# Let’s type this to your Jupyter Notebook first:\n",
    "import random"
   ]
  },
  {
   "cell_type": "code",
   "execution_count": 37,
   "metadata": {},
   "outputs": [
    {
     "data": {
      "text/plain": [
       "0.9756486372395423"
      ]
     },
     "execution_count": 37,
     "metadata": {},
     "output_type": "execute_result"
    }
   ],
   "source": [
    "# Then in a separate cell try out:\n",
    "random.random()   # This will generate a random float between 0 and 1."
   ]
  },
  {
   "cell_type": "code",
   "execution_count": 38,
   "metadata": {},
   "outputs": [
    {
     "data": {
      "text/plain": [
       "7"
      ]
     },
     "execution_count": 38,
     "metadata": {},
     "output_type": "execute_result"
    }
   ],
   "source": [
    "random.randint(1,10)   # This will generate a random integer between 1 and 10."
   ]
  },
  {
   "cell_type": "markdown",
   "metadata": {},
   "source": [
    "### Python Built-in Module #2: `statistics`\n",
    "There is a statistics built-in module which contains functions like: mean, median, mode, standard deviation, variance and more."
   ]
  },
  {
   "cell_type": "code",
   "execution_count": 39,
   "metadata": {},
   "outputs": [],
   "source": [
    "# Let’s try few of these:\n",
    "import statistics"
   ]
  },
  {
   "cell_type": "code",
   "execution_count": 40,
   "metadata": {},
   "outputs": [],
   "source": [
    "# Create a sample list:\n",
    "a = [0, 1, 1, 3, 4, 9, 15]"
   ]
  },
  {
   "cell_type": "code",
   "execution_count": 41,
   "metadata": {},
   "outputs": [
    {
     "data": {
      "text/plain": [
       "4.714285714285714"
      ]
     },
     "execution_count": 41,
     "metadata": {},
     "output_type": "execute_result"
    }
   ],
   "source": [
    "statistics.mean(a)"
   ]
  },
  {
   "cell_type": "code",
   "execution_count": 42,
   "metadata": {},
   "outputs": [
    {
     "data": {
      "text/plain": [
       "3"
      ]
     },
     "execution_count": 42,
     "metadata": {},
     "output_type": "execute_result"
    }
   ],
   "source": [
    "statistics.median(a)"
   ]
  },
  {
   "cell_type": "code",
   "execution_count": 43,
   "metadata": {},
   "outputs": [
    {
     "data": {
      "text/plain": [
       "1"
      ]
     },
     "execution_count": 43,
     "metadata": {},
     "output_type": "execute_result"
    }
   ],
   "source": [
    "statistics.mode(a)"
   ]
  },
  {
   "cell_type": "code",
   "execution_count": 44,
   "metadata": {},
   "outputs": [
    {
     "data": {
      "text/plain": [
       "5.437961803049794"
      ]
     },
     "execution_count": 44,
     "metadata": {},
     "output_type": "execute_result"
    }
   ],
   "source": [
    "statistics.stdev(a)"
   ]
  },
  {
   "cell_type": "code",
   "execution_count": 45,
   "metadata": {},
   "outputs": [
    {
     "data": {
      "text/plain": [
       "29.571428571428566"
      ]
     },
     "execution_count": 45,
     "metadata": {},
     "output_type": "execute_result"
    }
   ],
   "source": [
    "statistics.variance(a)"
   ]
  },
  {
   "cell_type": "markdown",
   "metadata": {},
   "source": [
    "### Python Built-in Module #3: `math`\n",
    "There are a few functions that are under the umbrella of math rather than statistics. So there is a separate module for that. This contains factorial, power, and logarithmic functions, but also some trigonometry and constants."
   ]
  },
  {
   "cell_type": "code",
   "execution_count": 46,
   "metadata": {},
   "outputs": [],
   "source": [
    "import math"
   ]
  },
  {
   "cell_type": "code",
   "execution_count": 47,
   "metadata": {},
   "outputs": [
    {
     "data": {
      "text/plain": [
       "120"
      ]
     },
     "execution_count": 47,
     "metadata": {},
     "output_type": "execute_result"
    }
   ],
   "source": [
    "math.factorial(5)"
   ]
  },
  {
   "cell_type": "code",
   "execution_count": 48,
   "metadata": {},
   "outputs": [
    {
     "data": {
      "text/plain": [
       "3.141592653589793"
      ]
     },
     "execution_count": 48,
     "metadata": {},
     "output_type": "execute_result"
    }
   ],
   "source": [
    "math.pi"
   ]
  },
  {
   "cell_type": "code",
   "execution_count": 49,
   "metadata": {},
   "outputs": [
    {
     "data": {
      "text/plain": [
       "2.23606797749979"
      ]
     },
     "execution_count": 49,
     "metadata": {},
     "output_type": "execute_result"
    }
   ],
   "source": [
    "math.sqrt(5)"
   ]
  },
  {
   "cell_type": "code",
   "execution_count": 50,
   "metadata": {},
   "outputs": [
    {
     "data": {
      "text/plain": [
       "8.0"
      ]
     },
     "execution_count": 50,
     "metadata": {},
     "output_type": "execute_result"
    }
   ],
   "source": [
    "math.log(256, 2)"
   ]
  },
  {
   "cell_type": "markdown",
   "metadata": {},
   "source": [
    "### Python Built-in Module #4: `datetime`\n",
    "Do you plan to work for an online startup? Then you will probably encounter lot of data logs. And the heart of a data log is the datetime. Python3, by default, does not handle dates and times, but if you import the datetime module, you will get access to these functions, too."
   ]
  },
  {
   "cell_type": "code",
   "execution_count": 51,
   "metadata": {},
   "outputs": [],
   "source": [
    "import datetime"
   ]
  },
  {
   "cell_type": "markdown",
   "metadata": {},
   "source": [
    "#### I think the implementation of the datetime module of Python is a bit over-complicated… at least, it’s not easy to use for beginners. For now let’s try these two functions to get a bit more familiar with it:"
   ]
  },
  {
   "cell_type": "code",
   "execution_count": 52,
   "metadata": {},
   "outputs": [
    {
     "data": {
      "text/plain": [
       "datetime.datetime(2023, 1, 30, 19, 58, 36, 429740)"
      ]
     },
     "execution_count": 52,
     "metadata": {},
     "output_type": "execute_result"
    }
   ],
   "source": [
    "datetime.datetime.now()"
   ]
  },
  {
   "cell_type": "code",
   "execution_count": 53,
   "metadata": {},
   "outputs": [
    {
     "data": {
      "text/plain": [
       "'2023-01-30'"
      ]
     },
     "execution_count": 53,
     "metadata": {},
     "output_type": "execute_result"
    }
   ],
   "source": [
    "datetime.datetime.now().strftime(\"%F\")"
   ]
  },
  {
   "cell_type": "markdown",
   "metadata": {},
   "source": [
    "### Python Built-in Module #5: `csv`\n",
    "“csv” stands for “comma-separated values” and it’s one of the most common file formats for plain text data logs. So you definitely have to know how to open a .csv file in Python. There is a certain way to do that – just follow this example.\n",
    "\n",
    "Let’s say you have this small .csv file.\n"
   ]
  },
  {
   "cell_type": "code",
   "execution_count": 54,
   "metadata": {},
   "outputs": [
    {
     "data": {
      "text/plain": [
       "'C:\\\\Users\\\\yumei\\\\MSCA37014PythonForAnalyticsSummer2022\\\\Data'"
      ]
     },
     "execution_count": 54,
     "metadata": {},
     "output_type": "execute_result"
    }
   ],
   "source": [
    "%pwd"
   ]
  },
  {
   "cell_type": "code",
   "execution_count": 57,
   "metadata": {},
   "outputs": [],
   "source": [
    "import os\n",
    "os.chdir(r'C:\\Users\\yumei\\CSP Workshop 2023')"
   ]
  },
  {
   "cell_type": "code",
   "execution_count": 58,
   "metadata": {},
   "outputs": [
    {
     "data": {
      "text/plain": [
       "'C:\\\\Users\\\\yumei\\\\CSP Workshop 2023'"
      ]
     },
     "execution_count": 58,
     "metadata": {},
     "output_type": "execute_result"
    }
   ],
   "source": [
    "%pwd"
   ]
  },
  {
   "cell_type": "code",
   "execution_count": 60,
   "metadata": {},
   "outputs": [],
   "source": [
    "os.chdir(r'C:\\Users\\yumei\\CSP Workshop 2023\\Data')"
   ]
  },
  {
   "cell_type": "code",
   "execution_count": 61,
   "metadata": {},
   "outputs": [
    {
     "data": {
      "text/plain": [
       "'C:\\\\Users\\\\yumei\\\\CSP Workshop 2023\\\\Data'"
      ]
     },
     "execution_count": 61,
     "metadata": {},
     "output_type": "execute_result"
    }
   ],
   "source": [
    "%pwd"
   ]
  },
  {
   "cell_type": "code",
   "execution_count": 66,
   "metadata": {},
   "outputs": [
    {
     "name": "stdout",
     "output_type": "stream",
     "text": [
      "['AgeGroup,VehicleUse,ClaimSeverity,ClaimCount']\n",
      "['17', 'to', '20,Pleasure,250.48,21']\n",
      "['17', 'to', '20,DriveShort,274.78,40']\n",
      "['17', 'to', '20,DriveLong,244.52,23']\n",
      "['17', 'to', '20,Business,797.8,5']\n",
      "['21', 'to', '24,Pleasure,213.71,63']\n",
      "['21', 'to', '24,DriveShort,298.6,171']\n",
      "['21', 'to', '24,DriveLong,298.13,92']\n",
      "['21', 'to', '24,Business,362.23,44']\n",
      "['25', 'to', '29,Pleasure,250.57,140']\n",
      "['25', 'to', '29,DriveShort,248.56,343']\n",
      "['25', 'to', '29,DriveLong,297.9,318']\n",
      "['25', 'to', '29,Business,342.31,129']\n",
      "['30', 'to', '34,Pleasure,229.09,123']\n",
      "['30', 'to', '34,DriveShort,228.48,448']\n",
      "['30', 'to', '34,DriveLong,293.87,361']\n",
      "['30', 'to', '34,Business,367.46,169']\n",
      "['35', 'to', '39,Pleasure,153.62,151']\n",
      "['35', 'to', '39,DriveShort,201.67,479']\n",
      "['35', 'to', '39,DriveLong,238.21,381']\n",
      "['35', 'to', '39,Business,256.21,166']\n",
      "['40', 'to', '49,Pleasure,208.59,245']\n",
      "['40', 'to', '49,DriveShort,202.8,970']\n",
      "['40', 'to', '49,DriveLong,236.06,719']\n",
      "['40', 'to', '49,Business,352.49,304']\n",
      "['50', 'to', '59,Pleasure,207.57,266']\n",
      "['50', 'to', '59,DriveShort,202.67,859']\n",
      "['50', 'to', '59,DriveLong,253.63,504']\n",
      "['50', 'to', '59,Business,340.56,162']\n",
      "['60', 'or', 'more,Pleasure,192,260']\n",
      "['61', 'or', 'more,DriveShort,196.33,578']\n",
      "['62', 'or', 'more,DriveLong,259.79,312']\n",
      "['63', 'or', 'more,Business,342.58,96']\n"
     ]
    }
   ],
   "source": [
    "import csv\n",
    "\n",
    "with open(r'C:\\Users\\yumei\\CSP Workshop 2023\\Data\\AutoCollision.csv') as csvfile:\n",
    "    my_csv_file = csv.reader(csvfile, delimiter=' ')\n",
    "    for row in my_csv_file:\n",
    "        print(row)"
   ]
  },
  {
   "cell_type": "markdown",
   "metadata": {},
   "source": [
    "### More built-in modules\n",
    "This is a good start but far from the whole list of the Python built-in modules. With other modules you can zip and unzip files, scrape websites, send emails, and do a lot of other exciting things. If you want to take a look at the whole list, check out the Python Standard Library (https://docs.python.org/3/library/) which is part of the original Python documentation.\n",
    "And, as I mentioned, there are other Python libraries and packages that are not part of the standard library (like pandas, numpy, scipy, etc.) – I’ll write more about them soon!"
   ]
  },
  {
   "cell_type": "markdown",
   "metadata": {},
   "source": [
    "1. Usually, in Python scripts, we put all the import statements at the beginning of our script. Why is that? To see what modules our script relies on. Also, to make sure that the modules will be imported before we need to apply them. So keep this advice in mind: **python import statement and built-in modules - import at the beginning of the script**\n",
    "\n",
    "2. In this lecture note, we applied the functions of the modules using this syntax: `module_name.function_name`(parameters)\n",
    "\n",
    "```markdown\n",
    "Eg. statistics.median(a)\n",
    "\n",
    "or, csv.reader(csvfile, delimiter=';'). This is logical: before you apply a given function, you have to tell Python in which module to find it.\n",
    "```\n",
    "\n",
    "In some cases there are even more complicated relationships – like functions of classes in a module (eg. `datetime.datetime.now`()) but let’s not confuse yourself with that for now. \n",
    "\n",
    "My suggestion is to make a list of your favorite modules and functions and learn how they work; if you need a new one, check out the original Python documentation and add the new module plus its function to your list.\n",
    "\n",
    "3. When you import a module (or a package) you can rename it using the as keyword:\n",
    "If you type:\n",
    "\n",
    "```markdown\n",
    "import statistics as stat\n",
    "```\n",
    "\n",
    "You have to refer to your module as `stat`. Eg. `stat.median`(a) and not as statistics.median(a). Conventionally, we are using two very well-known data science related Python libraries imported with their shortened name: \n",
    "\n",
    "`numpy` (import numpy as np) and `pandas` (import pandas as pd)."
   ]
  },
  {
   "cell_type": "markdown",
   "metadata": {},
   "source": [
    "Here is a summary of terms:\n",
    "\n",
    "- **Function**: it’s a block of code that you can (re-)use by calling it with a keyword. \n",
    "\n",
    "Eg. print() is a function.\n",
    "\n",
    "- **Module**: it’s a `.py` file that contains a list of functions (it can also contain variables and classes). \n",
    "\n",
    "Eg. in statistics.mean(a), mean is a function that is found in the statistics module.\n",
    "\n",
    "- **Package**: it’s a collection of Python modules. \n",
    "\n",
    "Eg. numpy.random.randint(2, size=10) randint() is a function in the random module of the numpy package.\n",
    "\n",
    "- **Library**: it’s a more general term for a collection of Python codes."
   ]
  },
  {
   "cell_type": "markdown",
   "metadata": {},
   "source": [
    "## 2. The 3 Major Things to Keep in Mind about Python Syntax\n",
    "### 1) Line Breaks Matter\n",
    "In Python, line breaks matter. Which means that in 99% of cases, if you put a line break where you shouldn’t put one, you will get an error message.\n",
    "\n",
    "So here’s **Python syntax rule #1: one statement per line**.\n",
    "\n",
    "**There are some exceptions, though.**\n",
    "\n",
    "Expressions\n",
    "\n",
    "- in parentheses (eg. functions and methods),\n",
    "- in bracket frames (eg. lists),\n",
    "- and in curly braces (eg. directories)\n",
    "\n",
    "can actually be split into more lines. This is called implicit line joining and it is a great help when working with bigger data structures."
   ]
  },
  {
   "cell_type": "code",
   "execution_count": 67,
   "metadata": {},
   "outputs": [
    {
     "data": {
      "text/plain": [
       "['How I Met Your Mother',\n",
       " 'Friends',\n",
       " 'Silicon Valley',\n",
       " 'Family Guy',\n",
       " 'South Park']"
      ]
     },
     "execution_count": 67,
     "metadata": {},
     "output_type": "execute_result"
    }
   ],
   "source": [
    "# Example: \n",
    "my_movies = ['How I Met Your Mother', 'Friends', 'Silicon Valley','Family Guy',\n",
    "             'South Park']\n",
    "my_movies"
   ]
  },
  {
   "cell_type": "markdown",
   "metadata": {},
   "source": [
    "#### Additionally, \n",
    "- you can also break any expression into more than one line if you use a backslash `\\` at the end of the line. \n",
    "- And you can do the opposite, too: inserting more than one statement into one line using semicolons (`;`) between the statements. \n",
    "- However, these two methods are not too common, and I’d recommend using them only when necessary. (E.g. with really long, 80+ character long statements.)"
   ]
  },
  {
   "cell_type": "code",
   "execution_count": 68,
   "metadata": {},
   "outputs": [
    {
     "name": "stdout",
     "output_type": "stream",
     "text": [
      "Hello\n",
      "Hi\n",
      "Bye\n"
     ]
    }
   ],
   "source": [
    "print(\"Hello\"); print(\"Hi\"); print(\"Bye\")"
   ]
  },
  {
   "cell_type": "code",
   "execution_count": 69,
   "metadata": {},
   "outputs": [
    {
     "name": "stdout",
     "output_type": "stream",
     "text": [
      "Hello\n"
     ]
    }
   ],
   "source": [
    "print\\\n",
    "(\"He\\\n",
    "llo\")"
   ]
  },
  {
   "cell_type": "markdown",
   "metadata": {},
   "source": [
    "### 2) Indentations Matter\n",
    "\n",
    "Why do we need indentations? Somehow you have to indicate which code blocks belong together. \n",
    "\n",
    "e.g. what is the beginning and the end of an **if** statement or a **for** loop. In other languages, where you don’t have to use indentations, you have to use something else for that: \n",
    "\n",
    "e.g. in JavaScript you have to use extra brackets to frame your code blocks; in bash you have to use extra keywords. In Python, you have to use indentations – which in my opinion is the most elegant way to solve this issue.\n",
    "\n",
    "So we have **Python syntax rule #2: make sure that you use indentations correctly and consistently.**\n",
    "\n",
    "Note: We talked about the exact syntax rules governing for loops and if statements\n",
    "\n",
    "### 3) Case Sensitivity\n",
    "\n",
    "Python is case sensitive. It makes a difference whether you type **and** (correct) or **AND** (won’t work). **As a rule of thumb, learn that most of the Python keywords have to be written with lowercase letters**. \n",
    "\n",
    "The most commonly used exceptions I have to mention here (because I see many beginners have trouble with it) are the Boolean values. These are correctly spelled as: True and False. (Not TRUE, nor true.)\n",
    "\n",
    "There’s **Python syntax rule #3: Python is case sensitive.**"
   ]
  },
  {
   "cell_type": "markdown",
   "metadata": {},
   "source": [
    "## 2. The 6 Other Python Best Practices for Nicer Formatting\n",
    "A few (non-mandatory but highly recommended) Python best practices that will make your code much nicer, more readable and more reusable.\n",
    "\n",
    "### Python Best Practice #1: Use Comments\n",
    "You can add comments to your Python code. Simply use the **#** character. Everything that comes after the # won’t be executed."
   ]
  },
  {
   "cell_type": "code",
   "execution_count": 70,
   "metadata": {},
   "outputs": [
    {
     "name": "stdout",
     "output_type": "stream",
     "text": [
      "0\n",
      "2\n",
      "4\n",
      "6\n",
      "8\n",
      "10\n",
      "12\n",
      "14\n",
      "16\n",
      "18\n",
      "20\n",
      "22\n",
      "24\n",
      "26\n",
      "28\n"
     ]
    }
   ],
   "source": [
    "# This is a comment before my for loop.\n",
    "for i in range(0, 30, 2):\n",
    "    print(i)"
   ]
  },
  {
   "cell_type": "markdown",
   "metadata": {},
   "source": [
    "### Python Best Practice #2: Variable Names\n",
    "- Conventionally, **variable names should be written with lower letters, and the words in them separated by `_` characters**. Also, generally I do not recommend using one letter variable names in your code. Using meaningful and easy-to-distinguish variable names helps other programmers a lot when they want to understand your code. **more flexible, reusable and understandable**. \n",
    "\n",
    "```markdown\n",
    "my_meaningful_variable = 100\n",
    "```\n",
    "\n",
    "- **Do not use Python keywords to name your variables** because there might be name conflicts between your variable and the reserved keyword.\n",
    "\n",
    "- Everything in Python is case sensitive. e.g.: \"character\" is different from \"Character\"\n",
    "\n",
    "- shouldn't start with `numbers`\n",
    "\n",
    "- shouldn't start with `special symbols`\n",
    "\n",
    "- use `_` to separate different words (vs. RStudio: use `.` to separate commonly)\n",
    "\n",
    "- use `#` to make comments\n",
    "\n",
    "### Python Best Practice #3: Use Blank Lines\n",
    "If you want to separate code blocks visually (e.g. when you have a 100 line Python script in which you have 10-12 blocks that belong together) you can use **blank lines**. Even multiple blank lines. It won’t affect the result of your script."
   ]
  },
  {
   "cell_type": "code",
   "execution_count": 71,
   "metadata": {},
   "outputs": [
    {
     "name": "stdout",
     "output_type": "stream",
     "text": [
      "Are you 50 years old?more\n",
      "Are you 75 years old?more\n",
      "Are you 87 years old?less\n"
     ]
    },
    {
     "ename": "KeyboardInterrupt",
     "evalue": "Interrupted by user",
     "output_type": "error",
     "traceback": [
      "\u001b[1;31m---------------------------------------------------------------------------\u001b[0m",
      "\u001b[1;31mKeyboardInterrupt\u001b[0m                         Traceback (most recent call last)",
      "\u001b[1;32m~\\AppData\\Local\\Temp/ipykernel_70352/868994697.py\u001b[0m in \u001b[0;36m<module>\u001b[1;34m\u001b[0m\n\u001b[0;32m      4\u001b[0m \u001b[1;32mfor\u001b[0m \u001b[0mi\u001b[0m \u001b[1;32min\u001b[0m \u001b[0mrange\u001b[0m\u001b[1;33m(\u001b[0m\u001b[1;36m1\u001b[0m\u001b[1;33m,\u001b[0m\u001b[1;36m10\u001b[0m\u001b[1;33m)\u001b[0m\u001b[1;33m:\u001b[0m\u001b[1;33m\u001b[0m\u001b[1;33m\u001b[0m\u001b[0m\n\u001b[0;32m      5\u001b[0m     \u001b[0mguessed_age\u001b[0m \u001b[1;33m=\u001b[0m \u001b[0mint\u001b[0m\u001b[1;33m(\u001b[0m\u001b[1;33m(\u001b[0m\u001b[0mup\u001b[0m \u001b[1;33m+\u001b[0m \u001b[0mdown\u001b[0m\u001b[1;33m)\u001b[0m \u001b[1;33m/\u001b[0m \u001b[1;36m2\u001b[0m\u001b[1;33m)\u001b[0m\u001b[1;33m\u001b[0m\u001b[1;33m\u001b[0m\u001b[0m\n\u001b[1;32m----> 6\u001b[1;33m     \u001b[0manswer\u001b[0m \u001b[1;33m=\u001b[0m \u001b[0minput\u001b[0m\u001b[1;33m(\u001b[0m\u001b[1;34m'Are you '\u001b[0m \u001b[1;33m+\u001b[0m \u001b[0mstr\u001b[0m\u001b[1;33m(\u001b[0m\u001b[0mguessed_age\u001b[0m\u001b[1;33m)\u001b[0m \u001b[1;33m+\u001b[0m \u001b[1;34m' years old?'\u001b[0m\u001b[1;33m)\u001b[0m\u001b[1;33m\u001b[0m\u001b[1;33m\u001b[0m\u001b[0m\n\u001b[0m\u001b[0;32m      7\u001b[0m     \u001b[1;32mif\u001b[0m \u001b[0manswer\u001b[0m \u001b[1;33m==\u001b[0m \u001b[1;34m'correct'\u001b[0m\u001b[1;33m:\u001b[0m\u001b[1;33m\u001b[0m\u001b[1;33m\u001b[0m\u001b[0m\n\u001b[0;32m      8\u001b[0m         \u001b[0mprint\u001b[0m\u001b[1;33m(\u001b[0m\u001b[1;34m\"Nice\"\u001b[0m\u001b[1;33m)\u001b[0m\u001b[1;33m\u001b[0m\u001b[1;33m\u001b[0m\u001b[0m\n",
      "\u001b[1;32mC:\\ProgramData\\Anaconda3\\lib\\site-packages\\ipykernel\\kernelbase.py\u001b[0m in \u001b[0;36mraw_input\u001b[1;34m(self, prompt)\u001b[0m\n\u001b[0;32m   1004\u001b[0m                 \u001b[1;34m\"raw_input was called, but this frontend does not support input requests.\"\u001b[0m\u001b[1;33m\u001b[0m\u001b[1;33m\u001b[0m\u001b[0m\n\u001b[0;32m   1005\u001b[0m             )\n\u001b[1;32m-> 1006\u001b[1;33m         return self._input_request(\n\u001b[0m\u001b[0;32m   1007\u001b[0m             \u001b[0mstr\u001b[0m\u001b[1;33m(\u001b[0m\u001b[0mprompt\u001b[0m\u001b[1;33m)\u001b[0m\u001b[1;33m,\u001b[0m\u001b[1;33m\u001b[0m\u001b[1;33m\u001b[0m\u001b[0m\n\u001b[0;32m   1008\u001b[0m             \u001b[0mself\u001b[0m\u001b[1;33m.\u001b[0m\u001b[0m_parent_ident\u001b[0m\u001b[1;33m[\u001b[0m\u001b[1;34m\"shell\"\u001b[0m\u001b[1;33m]\u001b[0m\u001b[1;33m,\u001b[0m\u001b[1;33m\u001b[0m\u001b[1;33m\u001b[0m\u001b[0m\n",
      "\u001b[1;32mC:\\ProgramData\\Anaconda3\\lib\\site-packages\\ipykernel\\kernelbase.py\u001b[0m in \u001b[0;36m_input_request\u001b[1;34m(self, prompt, ident, parent, password)\u001b[0m\n\u001b[0;32m   1049\u001b[0m             \u001b[1;32mexcept\u001b[0m \u001b[0mKeyboardInterrupt\u001b[0m\u001b[1;33m:\u001b[0m\u001b[1;33m\u001b[0m\u001b[1;33m\u001b[0m\u001b[0m\n\u001b[0;32m   1050\u001b[0m                 \u001b[1;31m# re-raise KeyboardInterrupt, to truncate traceback\u001b[0m\u001b[1;33m\u001b[0m\u001b[1;33m\u001b[0m\u001b[0m\n\u001b[1;32m-> 1051\u001b[1;33m                 \u001b[1;32mraise\u001b[0m \u001b[0mKeyboardInterrupt\u001b[0m\u001b[1;33m(\u001b[0m\u001b[1;34m\"Interrupted by user\"\u001b[0m\u001b[1;33m)\u001b[0m \u001b[1;32mfrom\u001b[0m \u001b[1;32mNone\u001b[0m\u001b[1;33m\u001b[0m\u001b[1;33m\u001b[0m\u001b[0m\n\u001b[0m\u001b[0;32m   1052\u001b[0m             \u001b[1;32mexcept\u001b[0m \u001b[0mException\u001b[0m\u001b[1;33m:\u001b[0m\u001b[1;33m\u001b[0m\u001b[1;33m\u001b[0m\u001b[0m\n\u001b[0;32m   1053\u001b[0m                 \u001b[0mself\u001b[0m\u001b[1;33m.\u001b[0m\u001b[0mlog\u001b[0m\u001b[1;33m.\u001b[0m\u001b[0mwarning\u001b[0m\u001b[1;33m(\u001b[0m\u001b[1;34m\"Invalid Message:\"\u001b[0m\u001b[1;33m,\u001b[0m \u001b[0mexc_info\u001b[0m\u001b[1;33m=\u001b[0m\u001b[1;32mTrue\u001b[0m\u001b[1;33m)\u001b[0m\u001b[1;33m\u001b[0m\u001b[1;33m\u001b[0m\u001b[0m\n",
      "\u001b[1;31mKeyboardInterrupt\u001b[0m: Interrupted by user"
     ]
    }
   ],
   "source": [
    "down = 0\n",
    "up = 100\n",
    "\n",
    "for i in range(1,10):\n",
    "    guessed_age = int((up + down) / 2)\n",
    "    answer = input('Are you ' + str(guessed_age) + ' years old?')    \n",
    "    if answer == 'correct':\n",
    "        print(\"Nice\")\n",
    "        break\n",
    "    elif answer == 'less':\n",
    "        up = guessed_age\n",
    "    elif answer == 'more':\n",
    "        down = guessed_age\n",
    "    else:\n",
    "        print('wrong answer')"
   ]
  },
  {
   "cell_type": "markdown",
   "metadata": {},
   "source": [
    "### Python Best Practice #4: Use White Spaces Around Operators and Assignments\n",
    "\n",
    "For cleaner code it’s worth using spaces around your `=` signs and your mathematical and comparison operators `(>, <, +, -, etc.)`. If you don’t use white spaces, your code will run anyway, but again: the cleaner the code, the easier to read it, the easier to reuse it."
   ]
  },
  {
   "cell_type": "code",
   "execution_count": null,
   "metadata": {},
   "outputs": [],
   "source": [
    "# Example:\n",
    "number_x =10\n",
    "number_y = 100\n",
    "number_mult = number_x * number_y \n",
    "number_mult"
   ]
  },
  {
   "cell_type": "markdown",
   "metadata": {},
   "source": [
    "### Python Best Practice #5: Max Line Length Should Be 79 Characters\n",
    "If you reach 79 characters in a line, it’s recommended to break your code into more lines. Use the above-mentioned backslash `\\ `character. Using the `\\` at the end of the line, Python will ignore the line break and will read your code as if it were one line.\n",
    "\n",
    "### Python Best Practice #6: Stay Consistent\n",
    "And one of the most important rules: always stay consistent! Even if you follow the above rules, in specific situations you’ll have to create your own. Either way: make sure you are using these rules consistently. Ideally, you have to create Python scripts that you can open 6 months later without any trouble understanding them. If you randomly change your formatting rules and naming conventions, you’ll create an unnecessary headache for your future self. So stay consistent!"
   ]
  },
  {
   "cell_type": "code",
   "execution_count": null,
   "metadata": {},
   "outputs": [],
   "source": []
  },
  {
   "cell_type": "markdown",
   "metadata": {},
   "source": [
    "#### Note: The course materials are developed mainly based on personal experience and contributions from the Python learning community\n",
    "Referred Books: \n",
    "- Learning Python, 5th Edition by Mark Lutz\n",
    "- Python Data Science Handbook, Jake, VanderPlas\n",
    "- Python for Data Analysis, Wes McKinney    \n",
    "\n",
    "Copyright ©2023 Mei Najim. All rights reserved. "
   ]
  },
  {
   "cell_type": "code",
   "execution_count": null,
   "metadata": {},
   "outputs": [],
   "source": []
  },
  {
   "cell_type": "code",
   "execution_count": null,
   "metadata": {},
   "outputs": [],
   "source": []
  }
 ],
 "metadata": {
  "kernelspec": {
   "display_name": "Python 3 (ipykernel)",
   "language": "python",
   "name": "python3"
  },
  "language_info": {
   "codemirror_mode": {
    "name": "ipython",
    "version": 3
   },
   "file_extension": ".py",
   "mimetype": "text/x-python",
   "name": "python",
   "nbconvert_exporter": "python",
   "pygments_lexer": "ipython3",
   "version": "3.9.7"
  }
 },
 "nbformat": 4,
 "nbformat_minor": 2
}

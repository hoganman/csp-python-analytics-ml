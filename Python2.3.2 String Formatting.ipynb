{
 "cells": [
  {
   "cell_type": "markdown",
   "id": "cd6ba474",
   "metadata": {},
   "source": [
    "## String formatting in Python\n",
    "\n",
    "- String formatting is the process of infusing things in the string dynamically and presenting the string. \n",
    "\n",
    "- There are four different ways to perform string formatting:\n",
    "\n",
    "  - 1) Formatting with % Operator.\n",
    "  - 2) Formatting with format() string method.\n",
    "  - 3) Formatting with string literals, called f-strings.\n",
    "  - 4) Formatting with String Template Class\n",
    "  \n",
    "Let us learn the above-mentioned ways and will also focus on which string formatting strategy is the best."
   ]
  },
  {
   "cell_type": "markdown",
   "id": "b4ec1579",
   "metadata": {},
   "source": [
    "### 1) Formatting string using `%` Operator\n",
    "\n",
    "- It is the oldest but still popular method of string formatting. Here we use the modulo `%` operator. \n",
    "\n",
    "- The modulo `%` is also known as the “string-formatting operator”."
   ]
  },
  {
   "cell_type": "code",
   "execution_count": 47,
   "id": "f6185535",
   "metadata": {},
   "outputs": [
    {
     "name": "stdout",
     "output_type": "stream",
     "text": [
      "It is a beautiful day to walk my dog Zeoy.\n",
      "It is a beautiful day to walk my dog Zeoy and Sandy.\n"
     ]
    }
   ],
   "source": [
    "# Example: Formatting string using % operator\n",
    "x='Zeoy'\n",
    "y='Sandy'\n",
    "print(\"It is a beautiful day to walk my dog %s.\" %x)\n",
    "print(\"It is a beautiful day to walk my dog %s and %s.\" %(x,y))"
   ]
  },
  {
   "cell_type": "markdown",
   "id": "1a001af7",
   "metadata": {},
   "source": [
    "#### You can also inject multiple strings at a time with using variables to insert objects in the string.  The variables need to be wrapped around by a pair of `()`"
   ]
  },
  {
   "cell_type": "code",
   "execution_count": 48,
   "id": "89e99f5c",
   "metadata": {},
   "outputs": [
    {
     "name": "stdout",
     "output_type": "stream",
     "text": [
      "My dogs Sandy and Zoey are cute.\n"
     ]
    }
   ],
   "source": [
    "# Example: Injecting multiple strings using % operator\n",
    "x = 'Zoey'\n",
    " \n",
    "print(\"My dogs %s and %s are cute.\"%('Sandy',x))"
   ]
  },
  {
   "cell_type": "markdown",
   "id": "c135144d",
   "metadata": {},
   "source": [
    "#### Common Formats:\n",
    "- `%s` is used to inject strings and variables with strings\n",
    "- `%d` is used to inject integers\n",
    "- `%f` is used to inject floating-point values\n",
    "- `%b` is used to inject binary format "
   ]
  },
  {
   "cell_type": "code",
   "execution_count": 49,
   "id": "cd3ad3fd",
   "metadata": {},
   "outputs": [
    {
     "name": "stdout",
     "output_type": "stream",
     "text": [
      "Joe stood up and spoke to the crowd.\n",
      "There are 4 dogs.\n"
     ]
    }
   ],
   "source": [
    "# Example:\n",
    "print('Joe stood up and %s to the crowd.' %'spoke') \n",
    "print('There are %d dogs.' %4)"
   ]
  },
  {
   "cell_type": "markdown",
   "id": "c238df38",
   "metadata": {},
   "source": [
    "#### Float precision with the placeholder method:\n",
    "- Floating-point numbers use the format `%a.bf` \n",
    "  - Here, `a` would be the minimum number of digits to be present in the string; these might be padded with white space if the whole number doesn’t have this many digits. \n",
    "\n",
    "  - Close to this, `bf` represents how many digits are to be displayed after the decimal point. "
   ]
  },
  {
   "cell_type": "code",
   "execution_count": 58,
   "id": "a2107d27",
   "metadata": {},
   "outputs": [
    {
     "name": "stdout",
     "output_type": "stream",
     "text": [
      "The value of pi is: 30.1416\n"
     ]
    }
   ],
   "source": [
    "# Example 1: Float point precision using % operator\n",
    "print('The value of pi is: %2.4f' %(30.141592))"
   ]
  },
  {
   "cell_type": "code",
   "execution_count": 59,
   "id": "06ede92b",
   "metadata": {},
   "outputs": [
    {
     "name": "stdout",
     "output_type": "stream",
     "text": [
      "Floating point numbers: 13\n"
     ]
    }
   ],
   "source": [
    "# Example 2:\n",
    "print('Floating point numbers: %1.0f' %(13.144))"
   ]
  },
  {
   "cell_type": "code",
   "execution_count": 60,
   "id": "0b2f8797",
   "metadata": {},
   "outputs": [
    {
     "name": "stdout",
     "output_type": "stream",
     "text": [
      "Variable as integer = 12 \n",
      "Variable as float = 12.000000\n",
      "Variable as integer = 12 \n",
      "Variable as float = 12.000000\n"
     ]
    }
   ],
   "source": [
    "# Example 3: You can use multiple format conversion types in a single print statement\n",
    "variable = 12\n",
    " \n",
    "string = \"Variable as integer = %d \\n\\\n",
    "Variable as float = %f\" %(variable, variable)\n",
    "\n",
    "string2 = \"Variable as integer = %d \\nVariable as float = %f\" %(variable, variable)\n",
    "\n",
    "print (string) \n",
    "\n",
    "print (string2)"
   ]
  },
  {
   "cell_type": "markdown",
   "id": "d5dce9bb",
   "metadata": {},
   "source": [
    "### 2) Formatting string using `format()` method\n",
    "- `format()` method was introduced with Python3 for handling complex string formatting more efficiently. \n",
    "\n",
    "- Formatters work by putting in one or more replacement fields and placeholders defined by a pair of curly braces `{ }` into a string and calling the `str.format()`. \n",
    "\n",
    "- The value we wish to put into the placeholders and concatenate with the string passed as parameters into the format function. \n",
    "\n",
    "Syntax: 'String here `{ }` then also `{ }`'.format(`'something1'`,`'something2'`)"
   ]
  },
  {
   "cell_type": "code",
   "execution_count": 61,
   "id": "3995f5a4",
   "metadata": {},
   "outputs": [
    {
     "name": "stdout",
     "output_type": "stream",
     "text": [
      "We all are equal.\n"
     ]
    }
   ],
   "source": [
    "# Example: Formatting string using format() method\n",
    "print('We all are {}.'.format('equal'))"
   ]
  },
  {
   "cell_type": "markdown",
   "id": "63a9135c",
   "metadata": {},
   "source": [
    "#### The`.format()` method has many advantages over the placeholder method:\n",
    "\n",
    "- We can insert object by using index-based position:"
   ]
  },
  {
   "cell_type": "code",
   "execution_count": 62,
   "id": "0659197a",
   "metadata": {},
   "outputs": [
    {
     "name": "stdout",
     "output_type": "stream",
     "text": [
      "Read the directions\n"
     ]
    }
   ],
   "source": [
    "print('{2} {1} {0}'.format('directions','the', 'Read'))"
   ]
  },
  {
   "cell_type": "markdown",
   "id": "78490a04",
   "metadata": {},
   "source": [
    "- We can insert objects by using assigned keywords:"
   ]
  },
  {
   "cell_type": "code",
   "execution_count": 63,
   "id": "749dbd3e",
   "metadata": {},
   "outputs": [
    {
     "name": "stdout",
     "output_type": "stream",
     "text": [
      "a: 1, b: Two, c: 12.3\n"
     ]
    }
   ],
   "source": [
    "print('a: {a}, b: {b}, c: {c}'.format(a = 1,b = 'Two',c = 12.3))"
   ]
  },
  {
   "cell_type": "markdown",
   "id": "dc8dc50b",
   "metadata": {},
   "source": [
    "- We can reuse the inserted objects to avoid duplication:"
   ]
  },
  {
   "cell_type": "code",
   "execution_count": 64,
   "id": "36277ce4",
   "metadata": {},
   "outputs": [
    {
     "name": "stdout",
     "output_type": "stream",
     "text": [
      "The first second was alright, but the second second was tough.\n"
     ]
    }
   ],
   "source": [
    "print('The first {p} was alright, but the {p} {p} was tough.'.format(p = 'second'))"
   ]
  },
  {
   "cell_type": "markdown",
   "id": "5b9cc00c",
   "metadata": {},
   "source": [
    "### Float precision with the `.format()` method:\n",
    "\n",
    "Syntax: {[index]:[width][.precision][type]}\n",
    "\n",
    "The type can be used with format codes:\n",
    "\n",
    "- `d` for integers\n",
    "- `f` for floating-point numbers\n",
    "- `b` for binary numbers\n",
    "- `o` for octal numbers\n",
    "- `x` for octal hexadecimal numbers\n",
    "- `s` for string\n",
    "- `e` for floating-point in an exponent format"
   ]
  },
  {
   "cell_type": "code",
   "execution_count": 65,
   "id": "72b391de",
   "metadata": {},
   "outputs": [
    {
     "name": "stdout",
     "output_type": "stream",
     "text": [
      "The value of pi is: 31.142\n",
      "The value of pi is: 31.14159\n"
     ]
    }
   ],
   "source": [
    "# Example:\n",
    "\n",
    "print('The value of pi is: %1.3f' %31.141592) \n",
    "# vs. \n",
    "print('The value of pi is: {0:1.5f}'.format(31.141592))"
   ]
  },
  {
   "cell_type": "markdown",
   "id": "5b7cca77",
   "metadata": {},
   "source": [
    "#### Note: To know more about `str.format()`, refer to `format()` function in Python"
   ]
  },
  {
   "cell_type": "markdown",
   "id": "0c6665d8",
   "metadata": {},
   "source": [
    "### 3) Formatted String using F-strings\n",
    "PEP 498 introduced a new string formatting mechanism known as `Literal String Interpolation` or more commonly as `F-strings` (because of the leading f character preceding the string literal). The idea behind f-strings is to make string interpolation simpler.\n",
    "\n",
    "- To create an f-string, prefix the string with the letter `“ f ”`. \n",
    "- The string itself can be formatted in much the same way that you would with `str.format()`. \n",
    "- F-strings provide a concise and convenient way to embed python expressions inside string literals for formatting.\n",
    "- This new formatting syntax is very powerful and easy. \n",
    "- You can also insert arbitrary Python expressions.\n",
    "- You can even do arithmetic operations in it.\n",
    "- You can use this link: https://docs.python.org/3/reference/lexical_analysis.html#f-strings"
   ]
  },
  {
   "cell_type": "code",
   "execution_count": 66,
   "id": "95193d7c",
   "metadata": {},
   "outputs": [
    {
     "name": "stdout",
     "output_type": "stream",
     "text": [
      "My name is Ele.\n"
     ]
    }
   ],
   "source": [
    "# Example: Formatting string with F-Strings\n",
    "name = 'Ele' \n",
    "print(f\"My name is {name}.\")"
   ]
  },
  {
   "cell_type": "code",
   "execution_count": 67,
   "id": "6ac5b85f",
   "metadata": {},
   "outputs": [
    {
     "name": "stdout",
     "output_type": "stream",
     "text": [
      "He said his age is 30.\n"
     ]
    }
   ],
   "source": [
    "# Example: Arithmetic operations using F-strings\n",
    "a = 5\n",
    "b = 10 \n",
    "print(f\"He said his age is {2 * (a + b)}.\")"
   ]
  },
  {
   "cell_type": "markdown",
   "id": "8a0092a0",
   "metadata": {},
   "source": [
    "- We can also use lambda expressions in f-string formatting."
   ]
  },
  {
   "cell_type": "code",
   "execution_count": 68,
   "id": "4db76814",
   "metadata": {},
   "outputs": [
    {
     "name": "stdout",
     "output_type": "stream",
     "text": [
      "He said his age is 6\n"
     ]
    }
   ],
   "source": [
    "# Example: Lambda Expressions using F-strings\n",
    "print(f\"He said his age is {(lambda x: x*2)(3)}\")"
   ]
  },
  {
   "cell_type": "markdown",
   "id": "286de404",
   "metadata": {},
   "source": [
    "- Float precision in the f-String method:\n",
    "\n",
    "Syntax: {value:{width}.{precision}}"
   ]
  },
  {
   "cell_type": "code",
   "execution_count": 69,
   "id": "8cec5112",
   "metadata": {},
   "outputs": [
    {
     "name": "stdout",
     "output_type": "stream",
     "text": [
      "The value of pi is: 3.14\n"
     ]
    }
   ],
   "source": [
    "# Example: Float Precision using F-strings\n",
    "num = 3.14159 \n",
    "print(f\"The value of pi is: {num:{1}.{3}}\")"
   ]
  },
  {
   "cell_type": "markdown",
   "id": "2234ced4",
   "metadata": {},
   "source": [
    "### 4) String Template Class\n",
    "\n",
    "- In the String module, Template Class allows us to create simplified syntax for output specification. The format uses placeholder names formed by `$` with valid Python identifiers (alphanumeric characters and underscores). \n",
    "\n",
    "- Surrounding the placeholder with braces allows it to be followed by more alphanumeric letters with no intervening spaces. Writing $$ creates a single escaped $:"
   ]
  },
  {
   "cell_type": "code",
   "execution_count": 70,
   "id": "c32873aa",
   "metadata": {},
   "outputs": [
    {
     "name": "stdout",
     "output_type": "stream",
     "text": [
      "Hello ! This is GeeksforGeeks.\n"
     ]
    }
   ],
   "source": [
    "# Example: Formatting string using Template Class Python program to demonstrate string interpolation \n",
    " \n",
    "from string import Template\n",
    " \n",
    "n1 = 'Hello'\n",
    "n2 = 'GeeksforGeeks'\n",
    " \n",
    "# made a template which we used to pass two variable so n3 and n4 formal and n1 and n2 actual\n",
    "n = Template('$n3 ! This is $n4.')\n",
    " \n",
    "# and pass the parameters into the template string.\n",
    "print(n.substitute(n3=n1, n4=n2))"
   ]
  },
  {
   "cell_type": "markdown",
   "id": "eeff4d97",
   "metadata": {},
   "source": [
    "### Summary: Which string formatting method is the best?\n",
    "\n",
    "- f-strings are faster and better than both %-formatting and str.format(). \n",
    "\n",
    "- f-strings expressions are evaluated are at runtime, and we can also embed expressions inside f-string, using a very simple and easy syntax. The expressions inside the braces are evaluated in runtime and then put together with the string part of the f-string and then the final string is returned.\n",
    "\n",
    "Note: Use f-Strings if you are on Python 3.6+, and.format() method if you are not."
   ]
  },
  {
   "cell_type": "markdown",
   "id": "8df49c1a",
   "metadata": {},
   "source": [
    "#### Note: The course materials are developed mainly based on personal experience and contributions from the Python learning community\n",
    "Referred Books: \n",
    "- Learning Python, 5th Edition by Mark Lutz\n",
    "- Python Data Science Handbook, Jake, VanderPlas\n",
    "- Python for Data Analysis, Wes McKinney \n",
    "\n",
    "Copyright ©2023 Mei Najim. All rights reserved.  "
   ]
  },
  {
   "cell_type": "code",
   "execution_count": null,
   "id": "818321d2",
   "metadata": {},
   "outputs": [],
   "source": []
  }
 ],
 "metadata": {
  "kernelspec": {
   "display_name": "Python 3 (ipykernel)",
   "language": "python",
   "name": "python3"
  },
  "language_info": {
   "codemirror_mode": {
    "name": "ipython",
    "version": 3
   },
   "file_extension": ".py",
   "mimetype": "text/x-python",
   "name": "python",
   "nbconvert_exporter": "python",
   "pygments_lexer": "ipython3",
   "version": "3.9.7"
  }
 },
 "nbformat": 4,
 "nbformat_minor": 5
}

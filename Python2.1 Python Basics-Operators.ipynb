{
 "cells": [
  {
   "cell_type": "markdown",
   "metadata": {},
   "source": [
    "# Python Basics for Data Science \n",
    "***\n",
    "### IntroPython2.1 Python Basics-Operators  \n",
    "### IntroPython2.2 Python Basics-Variables, Data Types, and Data Type Conversion\n",
    "### IntroPython2.3 Python Basics-Data Structures\n",
    "### IntroPython2.4 Python Basics-Built-in Functions and Methods\n",
    "### IntroPython2.5 Python Basics-Create Our Own Function and Lambda\n",
    "### IntroPython2.6 Python Basics-If Statement\n",
    "### IntroPython2.7 Python Basics-Loops\n",
    "### IntroPython2.8 Python Basics-Import Statement and Important Built-in Modules, Syntax Essentials and Best Practices\n",
    "***"
   ]
  },
  {
   "cell_type": "markdown",
   "metadata": {},
   "source": [
    "***\n",
    "\n",
    "# Python is for... \n",
    "### Web programming (Django, Pyramid, Bottle, Flask…)\n",
    "### GUI development (wxPython, tkinter, PyGtk, PyQt…)\n",
    "## `Scientific and Numeric (SciPy, NumPy, Pandas…) - this course's focus`\n",
    "### Software development (Buildbot, Trac, Roundup…)\n",
    "### System Adminstraction (Ansible, Salt, OpenStack…)\n",
    "### Embedded computing (Raspberry Pi, McroPython, BeagleBone…)\n",
    "### Education (Raspberry Pi, Turtle, Robotics…)\n",
    "\n",
    "***\n",
    "\n",
    "#### The Python Language Reference: http://docs.python.org/2/reference/index.html\n",
    "#### The Python Standard Library: http://docs.python.org/2/library/\n",
    " \n",
    "***"
   ]
  },
  {
   "cell_type": "markdown",
   "metadata": {},
   "source": [
    "## Operators - Table of Contents\n",
    "\n",
    "Operators are used to perform operations on values and variables. Operators can manipulate individual items and returns a result. The data items are referred to as operands or arguments. Operators are either represented by keywords or special characters. For example, for identity operators we use keywords **\"is\"** and **\"is not\"**. \n",
    "\n",
    "### 1. Arithmetic Operators \n",
    "\n",
    "### 2. Comparison Operators \n",
    "\n",
    "### 3. Assignment Operators \n",
    "\n",
    "### 4. Logical Operators \n",
    "\n",
    "### 5. Membership Operators \n",
    "\n",
    "### 6. Identity Operators \n",
    "\n",
    "### 7. Operator Precedence "
   ]
  },
  {
   "cell_type": "markdown",
   "metadata": {},
   "source": [
    "## 1. Arithmetic Operators\n",
    "\n",
    "Arithmetic operators perform various arithmetic calculations like **addition, subtraction, multiplication, division, modulus, exponent**, etc. There are various methods for arithmetic calculation in Python like you can use the eval function, declare variable & calculate, or call functions. \n",
    "\n",
    "Similarly, you can use other arithmetic operators like for multiplication(`*`), division (`/`), substraction (`-`), etc. \n",
    "\n",
    "|  **Operator**   |      **What Does It Do**                         | **Example Result**  |\n",
    "|---              |---                                               |---                  |\n",
    "|a + b            |Adds a to b                                       |        7            |\n",
    "|a - b            |Subtract b from a                                 |        -1           |\n",
    "|a * b            |Multiply a by b                                   |        12           |\n",
    "|a / b            |Divide a by b                                     |        0.75         |\n",
    "|b % a            |Modulus: Divide b by a to return remainder        |         1           |\n",
    "|a ** b           |a raised to the power of b                        |        81           |"
   ]
  },
  {
   "cell_type": "code",
   "execution_count": 49,
   "metadata": {},
   "outputs": [
    {
     "name": "stdout",
     "output_type": "stream",
     "text": [
      "9\n"
     ]
    }
   ],
   "source": [
    "# Example: For arithmetic operators we will take a simple example of addition where we will add two digits 4+5=9 \n",
    "# # Define two new variables\n",
    "x= 4\n",
    "y= 5\n",
    "print(x + y)"
   ]
  },
  {
   "cell_type": "code",
   "execution_count": 50,
   "metadata": {},
   "outputs": [
    {
     "data": {
      "text/plain": [
       "9"
      ]
     },
     "execution_count": 50,
     "metadata": {},
     "output_type": "execute_result"
    }
   ],
   "source": [
    "x + y"
   ]
  },
  {
   "cell_type": "code",
   "execution_count": 51,
   "metadata": {},
   "outputs": [
    {
     "data": {
      "text/plain": [
       "20"
      ]
     },
     "execution_count": 51,
     "metadata": {},
     "output_type": "execute_result"
    }
   ],
   "source": [
    "x*y"
   ]
  },
  {
   "cell_type": "code",
   "execution_count": 52,
   "metadata": {},
   "outputs": [
    {
     "data": {
      "text/plain": [
       "0.8"
      ]
     },
     "execution_count": 52,
     "metadata": {},
     "output_type": "execute_result"
    }
   ],
   "source": [
    "x/y"
   ]
  },
  {
   "cell_type": "code",
   "execution_count": 53,
   "metadata": {},
   "outputs": [
    {
     "data": {
      "text/plain": [
       "4"
      ]
     },
     "execution_count": 53,
     "metadata": {},
     "output_type": "execute_result"
    }
   ],
   "source": [
    "x%y"
   ]
  },
  {
   "cell_type": "code",
   "execution_count": 54,
   "metadata": {},
   "outputs": [
    {
     "data": {
      "text/plain": [
       "1024"
      ]
     },
     "execution_count": 54,
     "metadata": {},
     "output_type": "execute_result"
    }
   ],
   "source": [
    "x**y"
   ]
  },
  {
   "cell_type": "markdown",
   "metadata": {},
   "source": [
    "#### You can create an expression where a variable is assigned to itself. This is used when you are aggregating values in a loop."
   ]
  },
  {
   "cell_type": "code",
   "execution_count": 55,
   "metadata": {},
   "outputs": [
    {
     "data": {
      "text/plain": [
       "5"
      ]
     },
     "execution_count": 55,
     "metadata": {},
     "output_type": "execute_result"
    }
   ],
   "source": [
    "x=x+1\n",
    "x"
   ]
  },
  {
   "cell_type": "markdown",
   "metadata": {},
   "source": [
    "## 2. Comparison Operators\n",
    "- We can use some variables with comparison operators. The results will always be Boolean values. (Remember, Booleans can be only True or False.) \n",
    "\n",
    "- These operators compare the values on either side of the operand and determine the relation between them. It is also referred to as **relational operators**. Various comparison operators are **( `==`, `!=` , `<>`, `>`, `<=`, etc.)**"
   ]
  },
  {
   "cell_type": "markdown",
   "metadata": {},
   "source": [
    "|Operator\t|What does it do?\t                   |Result in our example    |\n",
    "|---        |---                                   |---                      |\n",
    "|a > b\t    |Evaluate if a is greater than b       |          False          |\n",
    "|a < b\t    |Evaluate if a is less than b\t       |          True           |\n",
    "|a == b\t    |Evaluate if a equals b\t               |          False          |"
   ]
  },
  {
   "cell_type": "markdown",
   "metadata": {},
   "source": [
    "#### Example: Compare the value of x to the value of y and print the result in True or False."
   ]
  },
  {
   "cell_type": "code",
   "execution_count": 56,
   "metadata": {},
   "outputs": [
    {
     "name": "stdout",
     "output_type": "stream",
     "text": [
      "('x > y is', False)\n"
     ]
    }
   ],
   "source": [
    "x = 4\n",
    "y = 5\n",
    "print(('x > y is',x > y))"
   ]
  },
  {
   "cell_type": "markdown",
   "metadata": {},
   "source": [
    "#### Likewise, you can try other comparison operators (x < y, x==y, x!=y, etc.) "
   ]
  },
  {
   "cell_type": "code",
   "execution_count": 57,
   "metadata": {},
   "outputs": [
    {
     "data": {
      "text/plain": [
       "False"
      ]
     },
     "execution_count": 57,
     "metadata": {},
     "output_type": "execute_result"
    }
   ],
   "source": [
    "x==y"
   ]
  },
  {
   "cell_type": "code",
   "execution_count": 58,
   "metadata": {},
   "outputs": [
    {
     "data": {
      "text/plain": [
       "True"
      ]
     },
     "execution_count": 58,
     "metadata": {},
     "output_type": "execute_result"
    }
   ],
   "source": [
    "x!=y"
   ]
  },
  {
   "cell_type": "code",
   "execution_count": 59,
   "metadata": {},
   "outputs": [
    {
     "data": {
      "text/plain": [
       "False"
      ]
     },
     "execution_count": 59,
     "metadata": {},
     "output_type": "execute_result"
    }
   ],
   "source": [
    "x > y"
   ]
  },
  {
   "cell_type": "code",
   "execution_count": 60,
   "metadata": {},
   "outputs": [
    {
     "data": {
      "text/plain": [
       "True"
      ]
     },
     "execution_count": 60,
     "metadata": {},
     "output_type": "execute_result"
    }
   ],
   "source": [
    "x < y"
   ]
  },
  {
   "cell_type": "markdown",
   "metadata": {},
   "source": [
    "## 3. Assignment Operators\n",
    "\n",
    "Python assignment operators are used for `assigning the value of the right operand to the left operand`. Various assignment operators used in Python are (`+=`, `=`, `*=`, `/=` , etc.) "
   ]
  },
  {
   "cell_type": "markdown",
   "metadata": {},
   "source": [
    "#### Example: Use Python assignment operators to simply assign the value"
   ]
  },
  {
   "cell_type": "code",
   "execution_count": 61,
   "metadata": {},
   "outputs": [
    {
     "name": "stdout",
     "output_type": "stream",
     "text": [
      "Hello from Me\n",
      "Hello from You\n"
     ]
    }
   ],
   "source": [
    "var1 = 'Me'\n",
    "var2 = 'You'\n",
    "print(\"Hello from \" + var1)\n",
    "print(\"Hello from \" + var2)"
   ]
  },
  {
   "cell_type": "code",
   "execution_count": 62,
   "metadata": {},
   "outputs": [
    {
     "name": "stdout",
     "output_type": "stream",
     "text": [
      "Hello from  Me\n",
      "Hello from  You\n"
     ]
    }
   ],
   "source": [
    "var1 = 'Me'\n",
    "var2 = 'You'\n",
    "print(\"Hello from \", var1)\n",
    "print(\"Hello from \", var2)"
   ]
  },
  {
   "cell_type": "markdown",
   "metadata": {},
   "source": [
    "### Example: Compound assignment operator "
   ]
  },
  {
   "cell_type": "code",
   "execution_count": 63,
   "metadata": {},
   "outputs": [
    {
     "name": "stdout",
     "output_type": "stream",
     "text": [
      "Cumulative Total is 13\n"
     ]
    }
   ],
   "source": [
    "# We can also use a compound assignment operator, where you can add, subtract, multiply right operand to left and \n",
    "# assign addition (or any other arithmetic function) to the left operand. \n",
    "\n",
    "# Step 1: Assign value to num1 and num2 \n",
    "var3 = 4\n",
    "var4 = 5\n",
    "\n",
    "# Step 2: Add value of num1 and num2 (4+5=9)\n",
    "tot = var3 + var4\n",
    "\n",
    "# Step 3: To this result add num1 to the output of Step 2 (9+4)\n",
    "tot += var3\n",
    "\n",
    "# Step 4: It will print the final result as 13\n",
    "print('Cumulative Total is ' + str(tot))"
   ]
  },
  {
   "cell_type": "markdown",
   "metadata": {},
   "source": [
    "## 4. Logical Operators\n",
    "Logical operators in Python are used for conditional statements are `True` or `False`. Logical operators in Python are `and`, `or` and `not`. For logical operators following condition are applied. \n",
    "\n",
    "•\t`and` operator – returns `TRUE` if both the operands (right side and left side) are true\n",
    "\n",
    "•\t`or` operator - returns `TRUE` if either of the operands (right side or left side) is true (or if both are true)\n",
    "\n",
    "•\t`not` operator - returns `TRUE` if operand is false"
   ]
  },
  {
   "cell_type": "markdown",
   "metadata": {},
   "source": [
    "|Operator\t |What does it do?\t                 |Result in our example   |\n",
    "|---         |---                                |---                     |\n",
    "|c and d   \t |True if both c and d are True\t     |False                   |\n",
    "|c or d\t     |True if either c or d is True\t     |True                    |\n",
    "|not c\t     |The opposite of c\t                 |False                   |"
   ]
  },
  {
   "cell_type": "markdown",
   "metadata": {},
   "source": [
    "#### And we can use logical operators on our variables. \n",
    "Let’s define c and d first:\n"
   ]
  },
  {
   "cell_type": "code",
   "execution_count": 64,
   "metadata": {},
   "outputs": [],
   "source": [
    "c = True\n",
    "d = False"
   ]
  },
  {
   "cell_type": "code",
   "execution_count": 65,
   "metadata": {},
   "outputs": [
    {
     "data": {
      "text/plain": [
       "False"
      ]
     },
     "execution_count": 65,
     "metadata": {},
     "output_type": "execute_result"
    }
   ],
   "source": [
    "c and d"
   ]
  },
  {
   "cell_type": "code",
   "execution_count": 66,
   "metadata": {},
   "outputs": [
    {
     "data": {
      "text/plain": [
       "True"
      ]
     },
     "execution_count": 66,
     "metadata": {},
     "output_type": "execute_result"
    }
   ],
   "source": [
    "c or d"
   ]
  },
  {
   "cell_type": "code",
   "execution_count": 67,
   "metadata": {},
   "outputs": [
    {
     "data": {
      "text/plain": [
       "False"
      ]
     },
     "execution_count": 67,
     "metadata": {},
     "output_type": "execute_result"
    }
   ],
   "source": [
    "not c"
   ]
  },
  {
   "cell_type": "code",
   "execution_count": 68,
   "metadata": {},
   "outputs": [
    {
     "name": "stdout",
     "output_type": "stream",
     "text": [
      "Right\n"
     ]
    }
   ],
   "source": [
    "if 1<2:\n",
    "    print(\"Right\")"
   ]
  },
  {
   "cell_type": "code",
   "execution_count": 69,
   "metadata": {},
   "outputs": [
    {
     "name": "stdout",
     "output_type": "stream",
     "text": [
      "Great\n"
     ]
    }
   ],
   "source": [
    "if True:\n",
    "    print(\"Great\")"
   ]
  },
  {
   "cell_type": "code",
   "execution_count": 70,
   "metadata": {},
   "outputs": [
    {
     "data": {
      "text/plain": [
       "5"
      ]
     },
     "execution_count": 70,
     "metadata": {},
     "output_type": "execute_result"
    }
   ],
   "source": [
    "if True:\n",
    "    X=2+3\n",
    "X"
   ]
  },
  {
   "cell_type": "code",
   "execution_count": 71,
   "metadata": {},
   "outputs": [
    {
     "name": "stdout",
     "output_type": "stream",
     "text": [
      "Wrong\n"
     ]
    }
   ],
   "source": [
    "if 1==3:\n",
    "    print(\"Right\")\n",
    "else:\n",
    "    print(\"Wrong\")"
   ]
  },
  {
   "cell_type": "code",
   "execution_count": 72,
   "metadata": {},
   "outputs": [
    {
     "name": "stdout",
     "output_type": "stream",
     "text": [
      "Right1\n"
     ]
    }
   ],
   "source": [
    "if 1==2:\n",
    "    print(\"Right\")\n",
    "elif 1==1:\n",
    "    print(\"Right1\")  # When there are multiple true conditions, only execute the first true condition \n",
    "elif 2==2:\n",
    "    print(\"Right2\")\n",
    "else:\n",
    "    print(\"Whatever\")"
   ]
  },
  {
   "cell_type": "code",
   "execution_count": 73,
   "metadata": {},
   "outputs": [],
   "source": [
    "# Eeample\n",
    "a = 1\n",
    "b = 2\n",
    "c = 3\n",
    "d = True\n",
    "e = 'cool'"
   ]
  },
  {
   "cell_type": "code",
   "execution_count": 74,
   "metadata": {},
   "outputs": [
    {
     "data": {
      "text/plain": [
       "True"
      ]
     },
     "execution_count": 74,
     "metadata": {},
     "output_type": "execute_result"
    }
   ],
   "source": [
    "# What will be the returned data type and the exact result of this operation?\n",
    "a == e or d and c > b"
   ]
  },
  {
   "cell_type": "code",
   "execution_count": 75,
   "metadata": {},
   "outputs": [
    {
     "data": {
      "text/plain": [
       "True"
      ]
     },
     "execution_count": 75,
     "metadata": {},
     "output_type": "execute_result"
    }
   ],
   "source": [
    "(a == e) or d and (c > b)"
   ]
  },
  {
   "cell_type": "code",
   "execution_count": 76,
   "metadata": {},
   "outputs": [
    {
     "data": {
      "text/plain": [
       "True"
      ]
     },
     "execution_count": 76,
     "metadata": {},
     "output_type": "execute_result"
    }
   ],
   "source": [
    "not a == e or d and not c > b"
   ]
  },
  {
   "cell_type": "code",
   "execution_count": 77,
   "metadata": {},
   "outputs": [
    {
     "data": {
      "text/plain": [
       "True"
      ]
     },
     "execution_count": 77,
     "metadata": {},
     "output_type": "execute_result"
    }
   ],
   "source": [
    "1<2 and 2<3"
   ]
  },
  {
   "cell_type": "code",
   "execution_count": 78,
   "metadata": {},
   "outputs": [
    {
     "data": {
      "text/plain": [
       "False"
      ]
     },
     "execution_count": 78,
     "metadata": {},
     "output_type": "execute_result"
    }
   ],
   "source": [
    "True and False"
   ]
  },
  {
   "cell_type": "code",
   "execution_count": 79,
   "metadata": {},
   "outputs": [
    {
     "name": "stdout",
     "output_type": "stream",
     "text": [
      "('not a is', False)\n",
      "('b is', False)\n",
      "('a and b is', False)\n",
      "('a or b is', True)\n"
     ]
    }
   ],
   "source": [
    "# Exercise: we get true or false based on the value of a and b \n",
    "a = True\n",
    "b = False\n",
    "print(('not a is',not a))\n",
    "print(('b is',b))\n",
    "print(('a and b is',a and b))\n",
    "print(('a or b is',a or b))"
   ]
  },
  {
   "cell_type": "markdown",
   "metadata": {},
   "source": [
    "#### Note: The evaluation order of the logical operators is: 1. `not` 2. `and` 3. `or`"
   ]
  },
  {
   "cell_type": "markdown",
   "metadata": {},
   "source": [
    "## 5. Membership Operators\n",
    "\n",
    "There are two membership operators that are used in Python: (**`in`**, **`not in`**) to test for membership in a sequence such as lists, strings or tuples. It gives the result based on the variable present in specified sequence or string."
   ]
  },
  {
   "cell_type": "code",
   "execution_count": 80,
   "metadata": {},
   "outputs": [
    {
     "name": "stdout",
     "output_type": "stream",
     "text": [
      "Line 1 - x and y is available in the given list\n"
     ]
    }
   ],
   "source": [
    "# Example: we check whether the value of x=4 and value of y=8 is available in list or not, \n",
    "# by using in and not in operators. \n",
    "# Declare the value for x and y \n",
    "x = 4\n",
    "y = 5\n",
    "\n",
    "# Declare the value of list\n",
    "list = [1, 2, 3, 4, 5]\n",
    "\n",
    "# Use the \"in\" operator with if statement to check the value of x existing in the list \n",
    "#  and print the result accordingly\n",
    "if (x in list and y in list):\n",
    "    print(\"Line 1 - x and y is available in the given list\")\n",
    "else:\n",
    "    print(\"Line 1 - x or y is not available in the given list\")"
   ]
  },
  {
   "cell_type": "code",
   "execution_count": 81,
   "metadata": {},
   "outputs": [
    {
     "name": "stdout",
     "output_type": "stream",
     "text": [
      "Line 2 - y is available in the given list\n"
     ]
    }
   ],
   "source": [
    "# Use the \"not in\" operator with if statement to check the value of y exist in the list \n",
    "#  and print the result accordingly\n",
    "if (y not in list ):\n",
    "    print(\"Line 2 - y is not available in the given list\")\n",
    "else:\n",
    "    print(\"Line 2 - y is available in the given list\")\n",
    "\n",
    "# Run the code - When the code is run it gives the desired output"
   ]
  },
  {
   "cell_type": "code",
   "execution_count": 82,
   "metadata": {},
   "outputs": [
    {
     "name": "stdout",
     "output_type": "stream",
     "text": [
      "False\n"
     ]
    }
   ],
   "source": [
    "# Exercise: Use z = 'good' to test if z is in the string 'Sandy is a good dog'\n",
    "z = 'good'\n",
    "if (z not in 'Sandy is a good dog'):\n",
    "    print(\"True\")\n",
    "else:\n",
    "    print(\"False\")"
   ]
  },
  {
   "cell_type": "code",
   "execution_count": 83,
   "metadata": {},
   "outputs": [
    {
     "name": "stdout",
     "output_type": "stream",
     "text": [
      "False\n"
     ]
    }
   ],
   "source": [
    "# Exercise: w = \"100\" to test in w is in y=[0,1,10,100,1000]\n",
    "w = '100'\n",
    "y = [0,1,10,100,1000]\n",
    "if (w in y):\n",
    "    print('True')\n",
    "else:\n",
    "    print('False')"
   ]
  },
  {
   "cell_type": "markdown",
   "metadata": {},
   "source": [
    "## 6. Identity Operators\n",
    "\n",
    "To compare the memory location of two objects, identity operators are used. The two identity operators used in Python are (**is**, **is not**). \n",
    "\n",
    "•\tOperator `is`: It returns `true` if two variables point to the same object and false otherwise.\n",
    "\n",
    "•\tOperator `is not`: It returns `false` if two variables point to the same object and true otherwise.\n",
    "\n",
    "Following operands are in decreasing order of precedence. Operators in the same box evaluate left to right. "
   ]
  },
  {
   "cell_type": "code",
   "execution_count": 84,
   "metadata": {},
   "outputs": [
    {
     "name": "stdout",
     "output_type": "stream",
     "text": [
      "Sandy and Bailey are same old\n"
     ]
    }
   ],
   "source": [
    "# Example: \n",
    "Sandy = 7\n",
    "Baily = 7\n",
    "if (Sandy is Baily): print(\"Sandy and Bailey are same old\")"
   ]
  },
  {
   "cell_type": "code",
   "execution_count": 85,
   "metadata": {},
   "outputs": [
    {
     "name": "stdout",
     "output_type": "stream",
     "text": [
      "Sandy and Lucy are not same old\n"
     ]
    }
   ],
   "source": [
    "Lucy = 15\n",
    "if (Sandy is not Lucy): print(\"Sandy and Lucy are not same old\")"
   ]
  },
  {
   "cell_type": "code",
   "execution_count": 86,
   "metadata": {},
   "outputs": [
    {
     "name": "stdout",
     "output_type": "stream",
     "text": [
      "Warm in Chicago\n"
     ]
    }
   ],
   "source": [
    "# Exercise: Today temp = 70; 65 degree is considered as warm in Chicago\n",
    "\n",
    "temp = 70\n",
    "if temp > 65: print(\"Warm in Chicago\")\n"
   ]
  },
  {
   "cell_type": "markdown",
   "metadata": {},
   "source": [
    "## 7. Operator Precedence\n",
    "\n",
    "The operator precedence determines which operators need to be evaluated first. To avoid ambiguity in values, precedence operators are necessary. Just like in normal multiplication method, multiplication has a higher precedence than addition. "
   ]
  },
  {
   "cell_type": "markdown",
   "metadata": {},
   "source": [
    "|Operators (Decreasing order of precedence) |Meaning                                           |\n",
    "|---                                        |---                                               |                \n",
    "|`**`                                       |Exponent                                          |\n",
    "|`*, /, //, %`                              |Multiplication, Division, Floor division, Modulus |\n",
    "|`+, -`                                     |Addition, Subtraction                             |\n",
    "|`<=, <, >, >=`                             |Comparison operators                              |\n",
    "|`=, %=, /=, //=, -=, +=, *=, **=`          |Assignment Operators                              |\n",
    "|`is, is not`                               |Identity operators                                |\n",
    "|`in, not in`                               |Membership operators                              |\n",
    "|`not, or, and`                             |Logical operators                                 |\n",
    "|                                                                                              |"
   ]
  },
  {
   "cell_type": "code",
   "execution_count": 87,
   "metadata": {},
   "outputs": [
    {
     "data": {
      "text/plain": [
       "23"
      ]
     },
     "execution_count": 87,
     "metadata": {},
     "output_type": "execute_result"
    }
   ],
   "source": [
    "# Example: \n",
    "3+4*5    # the answer is 23"
   ]
  },
  {
   "cell_type": "code",
   "execution_count": 88,
   "metadata": {},
   "outputs": [
    {
     "data": {
      "text/plain": [
       "35"
      ]
     },
     "execution_count": 88,
     "metadata": {},
     "output_type": "execute_result"
    }
   ],
   "source": [
    "# Example\n",
    "(3+4)*5   # to change the order of precedence we use parentheses, now the answer is 35. "
   ]
  },
  {
   "cell_type": "code",
   "execution_count": 89,
   "metadata": {},
   "outputs": [
    {
     "name": "stdout",
     "output_type": "stream",
     "text": [
      "(v+w) * x/y is  36.0\n"
     ]
    }
   ],
   "source": [
    "v = 4\n",
    "w = 5\n",
    "x = 8\n",
    "y = 2\n",
    "z = 0\n",
    "z = (v+w) * x / y\n",
    "#z\n",
    "print(\"(v+w) * x/y is \",  z)\n",
    "\n",
    "# Declare the value of variables v,w,x,y,z\n",
    "# Now apply the formula and run the code\n",
    "# The code will execute and calculate the result with higher precedence and will give the output\n",
    "# Use print() function to display the result"
   ]
  },
  {
   "cell_type": "markdown",
   "metadata": {},
   "source": [
    "## Summary:\n",
    "\n",
    "Operators in a programming language are used to perform various operations on values and variables. In Python, you can use operators as follows:\n",
    "\n",
    "•\tThere are various methods for arithmetic calculation in Python as you can use the eval function, declare variable & calculate, or call functions.\n",
    "\n",
    "•\tComparison operators often referred to as relational operators are used to compare the values on either side of them and determine the relation between them.\n",
    "\n",
    "•\tPython assignment operators are simply to assign the value to a variable.\n",
    "\n",
    "•\tPython also allows you to use a compound assignment operator, in a complicated arithmetic calculation, where you can assign the result of one operand to the other.\n",
    "\n",
    "•\t`and` operator – returns TRUE if both the operands (right side and left side) are true\n",
    "\n",
    "•\t`or` operator - returns TRUE if either of the operand (right side or left side) is true, or if both are true\n",
    "\n",
    "•\t`not` operator - returns TRUE if operand is false\n",
    "\n",
    "•\tThere are two membership operators that are used in Python. **(in, not in)**. It gives the result based on the variable present in specified sequence or string. \n",
    "\n",
    "•\tThe two identify operators used in Python are **(is, is not)**. It returns true if two variables point the same object and false otherwise\n",
    "\n",
    "•\tPrecedence operators can be useful when you have to set priority for which calculations need to be done first in a complex calculation."
   ]
  },
  {
   "cell_type": "markdown",
   "metadata": {},
   "source": [
    "## Exercises"
   ]
  },
  {
   "cell_type": "code",
   "execution_count": 90,
   "metadata": {},
   "outputs": [],
   "source": [
    "# Simpson characters\n",
    "homer_age = 34\n",
    "marge_age = 32\n",
    "bart_age  = 10\n",
    "lisa_age  = 8\n",
    "maggie_age = 1"
   ]
  },
  {
   "cell_type": "code",
   "execution_count": 91,
   "metadata": {},
   "outputs": [
    {
     "data": {
      "text/plain": [
       "True"
      ]
     },
     "execution_count": 91,
     "metadata": {},
     "output_type": "execute_result"
    }
   ],
   "source": [
    "(marge_age < homer_age) and (marge_age > bart_age) # Marge's age is between Homer and Bart"
   ]
  },
  {
   "cell_type": "code",
   "execution_count": 92,
   "metadata": {},
   "outputs": [
    {
     "data": {
      "text/plain": [
       "True"
      ]
     },
     "execution_count": 92,
     "metadata": {},
     "output_type": "execute_result"
    }
   ],
   "source": [
    "(marge_age < homer_age) & (marge_age > bart_age) # Marge's age is between Homer and Bart"
   ]
  },
  {
   "cell_type": "code",
   "execution_count": 93,
   "metadata": {},
   "outputs": [
    {
     "data": {
      "text/plain": [
       "True"
      ]
     },
     "execution_count": 93,
     "metadata": {},
     "output_type": "execute_result"
    }
   ],
   "source": [
    "#Is there anyone who is younger than lisa?\n",
    "anyone_younger_than_lisa = lisa_age > homer_age or lisa_age > marge_age or lisa_age > bart_age or lisa_age > maggie_age\n",
    "anyone_younger_than_lisa"
   ]
  },
  {
   "cell_type": "code",
   "execution_count": 94,
   "metadata": {},
   "outputs": [],
   "source": [
    "homer_is_a_dad = True\n",
    "marge_is_a_mom = True\n",
    "\n",
    "marge_is_a_dad = False\n",
    "homer_is_a_mom = False"
   ]
  },
  {
   "cell_type": "code",
   "execution_count": 95,
   "metadata": {},
   "outputs": [
    {
     "name": "stdout",
     "output_type": "stream",
     "text": [
      "True\n",
      "False\n",
      "False\n",
      "False\n"
     ]
    }
   ],
   "source": [
    "print(homer_is_a_dad and marge_is_a_mom)\n",
    "print(homer_is_a_dad and marge_is_a_dad)\n",
    "print(marge_is_a_dad and homer_is_a_dad)\n",
    "print(homer_is_a_mom and homer_is_a_mom)"
   ]
  },
  {
   "cell_type": "code",
   "execution_count": 96,
   "metadata": {},
   "outputs": [
    {
     "name": "stdout",
     "output_type": "stream",
     "text": [
      "True\n",
      "True\n",
      "True\n",
      "False\n"
     ]
    }
   ],
   "source": [
    "print(homer_is_a_dad or marge_is_a_mom)\n",
    "print(homer_is_a_dad or marge_is_a_dad)\n",
    "print(marge_is_a_dad or homer_is_a_dad)\n",
    "print(homer_is_a_mom or homer_is_a_mom)"
   ]
  },
  {
   "cell_type": "markdown",
   "metadata": {},
   "source": [
    "Here is the full **truth table**:\n",
    "\n",
    "|Statement A | Statement B| A and B | A or B|\n",
    "| ---        | ---        | ---     | ---   |\n",
    "| True       | True       | True    | True  |\n",
    "| True       | False      | False   | True  |\n",
    "| False      | True       | False   | True  |\n",
    "| False      | False      | False   | False |"
   ]
  },
  {
   "cell_type": "markdown",
   "metadata": {},
   "source": [
    "#### Note: The course materials are developed mainly based on personal experience and contributions from the Python learning community\n",
    "Referred Books: \n",
    "- Learning Python, 5th Edition by Mark Lutz\n",
    "- Python Data Science Handbook, Jake, VanderPlas\n",
    "- Python for Data Analysis, Wes McKinney   \n",
    "\n",
    "Copyright ©2023 Mei Najim. All rights reserved.  "
   ]
  },
  {
   "cell_type": "code",
   "execution_count": null,
   "metadata": {},
   "outputs": [],
   "source": []
  }
 ],
 "metadata": {
  "kernelspec": {
   "display_name": "Python 3 (ipykernel)",
   "language": "python",
   "name": "python3"
  },
  "language_info": {
   "codemirror_mode": {
    "name": "ipython",
    "version": 3
   },
   "file_extension": ".py",
   "mimetype": "text/x-python",
   "name": "python",
   "nbconvert_exporter": "python",
   "pygments_lexer": "ipython3",
   "version": "3.9.7"
  }
 },
 "nbformat": 4,
 "nbformat_minor": 2
}
